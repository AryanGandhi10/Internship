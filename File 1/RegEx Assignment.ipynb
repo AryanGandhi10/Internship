{
 "cells": [
  {
   "cell_type": "code",
   "execution_count": 3,
   "id": "5c307a97",
   "metadata": {},
   "outputs": [
    {
     "data": {
      "text/plain": [
       "'Python:Exercises::PHP:exercises:'"
      ]
     },
     "execution_count": 3,
     "metadata": {},
     "output_type": "execute_result"
    }
   ],
   "source": [
    "#Ans1:\n",
    "import regex as re \n",
    "Sample_Text = 'Python Exercises, PHP exercises.'\n",
    "re.sub(r\"\\W\",\":\",Sample_Text)\n"
   ]
  },
  {
   "cell_type": "code",
   "execution_count": 19,
   "id": "f67f6228",
   "metadata": {},
   "outputs": [
    {
     "name": "stdout",
     "output_type": "stream",
     "text": [
      "         SUMMARY\n",
      "0    hello world\n",
      "1           test\n",
      "2  four five six\n"
     ]
    }
   ],
   "source": [
    "#Ans2:\n",
    "import pandas as pd\n",
    "import regex as re\n",
    "dictionary = {'SUMMARY' : ['hello, world!', 'XXXXX test', '123four, five:; six...']}\n",
    "data_frame = pd.DataFrame(dictionary)\n",
    "def remove_text(text):\n",
    "    remove_text = re.sub(r\"[^a-z\\s]\",\"\",text)\n",
    "    remove_text = re.sub(r\"\\s+\",\" \",remove_text).strip()\n",
    "    return remove_text\n",
    "data_frame[\"SUMMARY\"] = data_frame[\"SUMMARY\"].apply(remove_text)\n",
    "print(data_frame)"
   ]
  },
  {
   "cell_type": "code",
   "execution_count": 24,
   "id": "caba1c15",
   "metadata": {},
   "outputs": [
    {
     "name": "stdout",
     "output_type": "stream",
     "text": [
      "['qwerty', 'uiop', 'asdfgh']\n"
     ]
    }
   ],
   "source": [
    "#Ans3:\n",
    "import regex as re\n",
    "str1 = \"qwerty uiop asdfgh jkl\"\n",
    "string_pattern = (r\"\\w{4,}\")\n",
    "regex_pattern = re.compile(string_pattern)\n",
    "result = regex_pattern.findall(str1)\n",
    "print(result)"
   ]
  },
  {
   "cell_type": "code",
   "execution_count": 50,
   "id": "45ed8a55",
   "metadata": {},
   "outputs": [
    {
     "name": "stdout",
     "output_type": "stream",
     "text": [
      "['qwert', 'uiop', 'asdfg', 'jkl', 'zxcvb']\n"
     ]
    }
   ],
   "source": [
    "#Ans4:\n",
    "import re\n",
    "str1 = \"qwerty uiop asdfgh jkl zxcvbnm\"\n",
    "string_pattern = (r\"\\w{3,5}\")\n",
    "regex_pattern = re.compile(string_pattern)\n",
    "result = regex_pattern.findall(str1)\n",
    "print(result)\n",
    "\n",
    "\n"
   ]
  },
  {
   "cell_type": "code",
   "execution_count": 12,
   "id": "b1accc6e",
   "metadata": {},
   "outputs": [
    {
     "name": "stdout",
     "output_type": "stream",
     "text": [
      "example \n",
      "hr@fliprobo \n",
      "github \n",
      "Hello \n",
      "Data \n"
     ]
    }
   ],
   "source": [
    "#Ans5:\n",
    "import re\n",
    "def remove_brackets(strings):\n",
    "    pattern = re.compile(r'\\([^)]*\\)')\n",
    "    result = [pattern.sub('', s) for s in strings]\n",
    "    return result\n",
    "sample_text = [\"example (.com)\", \"hr@fliprobo (.com)\", \"github (.com)\", \"Hello (Data Science World)\", \"Data (Scientist)\"]\n",
    "output = remove_brackets(sample_text)\n",
    "for item in output:\n",
    "    print(item)\n",
    "\n"
   ]
  },
  {
   "cell_type": "code",
   "execution_count": 13,
   "id": "a4844ed5",
   "metadata": {},
   "outputs": [
    {
     "name": "stdout",
     "output_type": "stream",
     "text": [
      "example \n",
      "hr@fliprobo \n",
      "github \n",
      "Hello \n",
      "Data \n"
     ]
    }
   ],
   "source": [
    "#Ans6:\n",
    "import re\n",
    "def remove_brackets(strings):\n",
    "    pattern = re.compile(r'\\([^)]*\\)')\n",
    "    result = [pattern.sub('', s) for s in strings]\n",
    "    return result\n",
    "sample_text = [\"example (.com)\", \"hr@fliprobo (.com)\", \"github (.com)\", \"Hello (Data Science World)\", \"Data (Scientist)\"]\n",
    "output = remove_brackets(sample_text)\n",
    "for item in output:\n",
    "    print(item)\n",
    "\n",
    "\n"
   ]
  },
  {
   "cell_type": "code",
   "execution_count": 15,
   "id": "5ba23087",
   "metadata": {},
   "outputs": [
    {
     "name": "stdout",
     "output_type": "stream",
     "text": [
      "['Importance', 'Of', 'Regular', 'Expressions', 'In', 'Python']\n"
     ]
    }
   ],
   "source": [
    "#Ans7:\n",
    "import regex as re\n",
    "sample_text = \"ImportanceOfRegularExpressionsInPython\"\n",
    "result = re.findall(r'[A-Z][a-z]*', sample_text)\n",
    "print(result)\n"
   ]
  },
  {
   "cell_type": "code",
   "execution_count": 24,
   "id": "5754d4ba",
   "metadata": {},
   "outputs": [
    {
     "name": "stdout",
     "output_type": "stream",
     "text": [
      "RegularExpression1 IsAn2 ImportantTopic3 InPython\n"
     ]
    }
   ],
   "source": [
    "#Ans8:\n",
    "import re\n",
    "def insert_spaces(text):\n",
    "  pattern = r'(\\d+)([A-Za-z]+)'\n",
    "  result = re.sub(pattern, r'\\1 \\2', text)\n",
    "  return result\n",
    "text = \"RegularExpression1IsAn2ImportantTopic3InPython\"\n",
    "output = insert_spaces(text)\n",
    "print(output)\n"
   ]
  },
  {
   "cell_type": "code",
   "execution_count": 25,
   "id": "4b57768b",
   "metadata": {},
   "outputs": [
    {
     "name": "stdout",
     "output_type": "stream",
     "text": [
      "Regular Expression 1 Is An 2 Important Topic 3 In Python\n"
     ]
    }
   ],
   "source": [
    "#Ans9:\n",
    "import re\n",
    "def organising_spaces(text):\n",
    "    modified_text = re.sub(r'([A-Z0-9][a-z]*)', r' \\1', text)\n",
    "    return modified_text.strip()\n",
    "sample_text = \"RegularExpression1IsAn2ImportantTopic3InPython\"\n",
    "output = insert_spaces(sample_text)\n",
    "print(output)\n"
   ]
  },
  {
   "cell_type": "code",
   "execution_count": 27,
   "id": "c46cb4d0",
   "metadata": {},
   "outputs": [
    {
     "name": "stdout",
     "output_type": "stream",
     "text": [
      "         Country                           Region  Happiness Rank  \\\n",
      "0    Switzerland                   Western Europe               1   \n",
      "1        Iceland                   Western Europe               2   \n",
      "2        Denmark                   Western Europe               3   \n",
      "3         Norway                   Western Europe               4   \n",
      "4         Canada                    North America               5   \n",
      "..           ...                              ...             ...   \n",
      "153       Rwanda               Sub-Saharan Africa             154   \n",
      "154        Benin               Sub-Saharan Africa             155   \n",
      "155        Syria  Middle East and Northern Africa             156   \n",
      "156      Burundi               Sub-Saharan Africa             157   \n",
      "157         Togo               Sub-Saharan Africa             158   \n",
      "\n",
      "     Happiness Score  Standard Error  Economy (GDP per Capita)   Family  \\\n",
      "0              7.587         0.03411                   1.39651  1.34951   \n",
      "1              7.561         0.04884                   1.30232  1.40223   \n",
      "2              7.527         0.03328                   1.32548  1.36058   \n",
      "3              7.522         0.03880                   1.45900  1.33095   \n",
      "4              7.427         0.03553                   1.32629  1.32261   \n",
      "..               ...             ...                       ...      ...   \n",
      "153            3.465         0.03464                   0.22208  0.77370   \n",
      "154            3.340         0.03656                   0.28665  0.35386   \n",
      "155            3.006         0.05015                   0.66320  0.47489   \n",
      "156            2.905         0.08658                   0.01530  0.41587   \n",
      "157            2.839         0.06727                   0.20868  0.13995   \n",
      "\n",
      "     Health (Life Expectancy)  Freedom  Trust (Government Corruption)  \\\n",
      "0                     0.94143  0.66557                        0.41978   \n",
      "1                     0.94784  0.62877                        0.14145   \n",
      "2                     0.87464  0.64938                        0.48357   \n",
      "3                     0.88521  0.66973                        0.36503   \n",
      "4                     0.90563  0.63297                        0.32957   \n",
      "..                        ...      ...                            ...   \n",
      "153                   0.42864  0.59201                        0.55191   \n",
      "154                   0.31910  0.48450                        0.08010   \n",
      "155                   0.72193  0.15684                        0.18906   \n",
      "156                   0.22396  0.11850                        0.10062   \n",
      "157                   0.28443  0.36453                        0.10731   \n",
      "\n",
      "     Generosity  Dystopia Residual first_five_letters  \n",
      "0       0.29678            2.51738             Switze  \n",
      "1       0.43630            2.70201             Icelan  \n",
      "2       0.34139            2.49204             Denmar  \n",
      "3       0.34699            2.46531             Norway  \n",
      "4       0.45811            2.45176             Canada  \n",
      "..          ...                ...                ...  \n",
      "153     0.22628            0.67042             Rwanda  \n",
      "154     0.18260            1.63328              Benin  \n",
      "155     0.47179            0.32858              Syria  \n",
      "156     0.19727            1.83302             Burund  \n",
      "157     0.16681            1.56726               Togo  \n",
      "\n",
      "[158 rows x 13 columns]\n"
     ]
    }
   ],
   "source": [
    "#Ans10:\n",
    "import regex as re\n",
    "import pandas as pd\n",
    "url = \"https://raw.githubusercontent.com/dsrscientist/DSData/master/happiness_score_dataset.csv\"\n",
    "df = pd.read_csv(url)\n",
    "df['first_five_letters'] = df['Country'].str[:6]\n",
    "print(df)\n"
   ]
  },
  {
   "cell_type": "code",
   "execution_count": 29,
   "id": "d985330a",
   "metadata": {},
   "outputs": [],
   "source": [
    "#Ans11:\n",
    "import regex as re\n",
    "def match_txt(text):\n",
    "        pattern = '^[a-zA-Z0-9_]*$'\n",
    "        if re.search(pattern,  text):\n",
    "                return ('match found')\n",
    "        else:\n",
    "                return('match not found')"
   ]
  },
  {
   "cell_type": "code",
   "execution_count": 31,
   "id": "b5e3a81c",
   "metadata": {},
   "outputs": [
    {
     "name": "stdout",
     "output_type": "stream",
     "text": [
      "False\n",
      "True\n"
     ]
    }
   ],
   "source": [
    "#Ans12:\n",
    "import regex as re\n",
    "def num_matching(string):\n",
    "    sample_text = re.compile(r\"^7\")\n",
    "    if sample_text.match(string):\n",
    "        return True\n",
    "    else:\n",
    "        return False\n",
    "print(num_matching('123456'))\n",
    "print(num_matching('7890'))"
   ]
  },
  {
   "cell_type": "code",
   "execution_count": 34,
   "id": "430897be",
   "metadata": {},
   "outputs": [
    {
     "name": "stdout",
     "output_type": "stream",
     "text": [
      "112.115.5.198\n"
     ]
    }
   ],
   "source": [
    "#Ans13:\n",
    "import regex as re\n",
    "ip = \"112.115.05.198\"\n",
    "regex_pattern = re.sub('\\.[0]*', '.', ip)\n",
    "print(regex_pattern)"
   ]
  },
  {
   "cell_type": "code",
   "execution_count": 42,
   "id": "9b1b19d0",
   "metadata": {},
   "outputs": [
    {
     "name": "stdout",
     "output_type": "stream",
     "text": [
      "August 15th 1947\n"
     ]
    }
   ],
   "source": [
    "#Ans14:\n",
    "import regex as re\n",
    "sample_text = \"On August 15th 1947 that India was declared independent from British colonialism, and the reins of control were handed over to the leaders of the Country.\"\n",
    "pattern = r\"\\b([A-Z][a-z]+ \\d{1,2}(?:st|nd|rd|th)? \\d{4})\\b\"\n",
    "match = re.findall(pattern, sample_text)\n",
    "date_string = match[0] if match else None\n",
    "print(date_string)\n"
   ]
  },
  {
   "cell_type": "code",
   "execution_count": 43,
   "id": "2aff9362",
   "metadata": {},
   "outputs": [
    {
     "name": "stdout",
     "output_type": "stream",
     "text": [
      "match found\n",
      "match found\n",
      "no match\n"
     ]
    }
   ],
   "source": [
    "#Ans15:\n",
    "import regex as re\n",
    "searched_words = [\"fox\",\"dog\",\"horse\"]\n",
    "sample_text = 'The quick brown fox jumps over the lazy dog.'\n",
    "for word in searched_words:\n",
    "    if re.search(word,sample_text):\n",
    "        print(\"match found\")\n",
    "    else:\n",
    "        print(\"no match\")\n",
    "        "
   ]
  },
  {
   "cell_type": "code",
   "execution_count": 47,
   "id": "b719bad2",
   "metadata": {},
   "outputs": [
    {
     "name": "stdout",
     "output_type": "stream",
     "text": [
      "Matched \"fox\" in \"The quick brown fox jumps over the lazy dog.\" from 16 to 19 \n"
     ]
    }
   ],
   "source": [
    "#Ans16:\n",
    "import regex as re\n",
    "pattern = 'fox'\n",
    "sample_text = 'The quick brown fox jumps over the lazy dog.'\n",
    "match = re.search(pattern, sample_text)\n",
    "s = match.start()\n",
    "e = match.end()\n",
    "print('Matched \"%s\" in \"%s\" from %d to %d ' % \\\n",
    "    (match.re.pattern, match.string, s, e))\n",
    "        \n",
    "    \n"
   ]
  },
  {
   "cell_type": "code",
   "execution_count": 49,
   "id": "8fbea8a9",
   "metadata": {},
   "outputs": [
    {
     "name": "stdout",
     "output_type": "stream",
     "text": [
      "exercises\n",
      "exercises\n",
      "exercises\n"
     ]
    }
   ],
   "source": [
    "#Ans17:\n",
    "import regex as re\n",
    "sample_text = 'Python exercises, PHP exercises, C# exercises'\n",
    "pattern = 'exercises'\n",
    "for match in re.findall(pattern, sample_text):\n",
    "    print(match)"
   ]
  },
  {
   "cell_type": "code",
   "execution_count": 53,
   "id": "d28c3739",
   "metadata": {},
   "outputs": [
    {
     "name": "stdout",
     "output_type": "stream",
     "text": [
      "<regex.Match object; span=(16, 26), match='fasinating'>\n"
     ]
    }
   ],
   "source": [
    "#Ans18:\n",
    "import regex as re\n",
    "sample_txt = \"Data Science is fasinating.\"\n",
    "pattern = \"fasinating\"\n",
    "for match in re.finditer(pattern,sample_txt):\n",
    "    s = match.start()\n",
    "    e = match.end()\n",
    "print(match)\n"
   ]
  },
  {
   "cell_type": "code",
   "execution_count": 57,
   "id": "c4f1cc61",
   "metadata": {},
   "outputs": [
    {
     "name": "stdout",
     "output_type": "stream",
     "text": [
      "Date YYY-MM-DD Format: 1999-08-30\n",
      "Date DD-MM-YYYY Format: 30-08-1999\n"
     ]
    }
   ],
   "source": [
    "#Ans19:\n",
    "import regex as re\n",
    "def change_format(dt):\n",
    "        return re.sub(r'(\\d{4})-(\\d{1,2})-(\\d{1,2})', '\\\\3-\\\\2-\\\\1', dt)\n",
    "sample_date = \"1999-08-30\"\n",
    "print(\"Date YYY-MM-DD Format:\",sample_date)\n",
    "print(\"Date DD-MM-YYYY Format:\",change_format(sample_date))"
   ]
  },
  {
   "cell_type": "code",
   "execution_count": 62,
   "id": "13d6bb39",
   "metadata": {},
   "outputs": [
    {
     "name": "stdout",
     "output_type": "stream",
     "text": [
      "['01.12', '0132.12', '2.31', '145.8', '3.01', '27.25', '0.25']\n"
     ]
    }
   ],
   "source": [
    "#Ans20:\n",
    "import regex as re\n",
    "\n",
    "def all_decimal_numbers(string):\n",
    "  pattern = re.compile(r'\\d+\\.\\d{1,2}')\n",
    "  decimal_numbers = re.findall(pattern, string)\n",
    "  return decimal_numbers\n",
    "sample_text = \"01.12 0132.123 2.31875 145.8 3.01 27.25 0.25\"\n",
    "result = all_decimal_numbers(sample_text)\n",
    "print(result)"
   ]
  },
  {
   "cell_type": "code",
   "execution_count": 1,
   "id": "9a625254",
   "metadata": {},
   "outputs": [
    {
     "name": "stdout",
     "output_type": "stream",
     "text": [
      "11\n",
      "index pos: 26\n"
     ]
    }
   ],
   "source": [
    "#Ans21:\n",
    "import regex as re\n",
    "sample_text = \"There are total number of 11 players in a football team.\"\n",
    "for m in re.finditer(\"\\d+\",sample_text):\n",
    "    print(m.group(0))\n",
    "    print(\"index pos:\",m.start())\n"
   ]
  },
  {
   "cell_type": "code",
   "execution_count": 2,
   "id": "17d2aff8",
   "metadata": {},
   "outputs": [
    {
     "name": "stdout",
     "output_type": "stream",
     "text": [
      "950\n"
     ]
    }
   ],
   "source": [
    "#Ans22:\n",
    "import regex as re\n",
    "sample_text = \"My marks in each semester are: 947, 896, 926, 524, 734, 950, 642\"\n",
    "numeric_value = re.findall(r\"\\d+\",sample_text)\n",
    "if numeric_value:\n",
    "    maximum_value = max(map(int,numeric_value))\n",
    "    print(maximum_value)\n",
    "else:\n",
    "    print(\"no numeric value\")\n"
   ]
  },
  {
   "cell_type": "code",
   "execution_count": 10,
   "id": "74520588",
   "metadata": {},
   "outputs": [
    {
     "name": "stdout",
     "output_type": "stream",
     "text": [
      "match found\n",
      "match not found\n"
     ]
    }
   ],
   "source": [
    "#Ans24:\n",
    "import re\n",
    "def match_txt(text):\n",
    "        pattern = '[A-Z]+[a-z]+$'\n",
    "        if re.search(pattern, text):\n",
    "                return \"match found\"\n",
    "        else:\n",
    "                return(\"match not found\")\n",
    "print(match_txt(\"Data Science\"))\n",
    "print(match_txt(\"data science\"))\n"
   ]
  },
  {
   "cell_type": "code",
   "execution_count": 7,
   "id": "0604b309",
   "metadata": {},
   "outputs": [
    {
     "name": "stdout",
     "output_type": "stream",
     "text": [
      "Regular Expression Is An Important Topic In Python\n"
     ]
    }
   ],
   "source": [
    "#Ans23:\n",
    "import regex as re\n",
    "\n",
    "def insert_spaces(text):\n",
    "  pattern = r'([A-Z][a-z]+)'\n",
    "  result = re.sub(pattern, r' \\1', text)\n",
    "  result = result.strip()\n",
    "  return result\n",
    "sample_text = \"RegularExpressionIsAnImportantTopicInPython\"\n",
    "output = insert_spaces(sample_text)\n",
    "print(output)"
   ]
  },
  {
   "cell_type": "code",
   "execution_count": 13,
   "id": "af4cd613",
   "metadata": {},
   "outputs": [
    {
     "name": "stdout",
     "output_type": "stream",
     "text": [
      "Hello hello world\n"
     ]
    }
   ],
   "source": [
    "#Ans25:\n",
    "import regex as re\n",
    "def remove_dupes(sentence):\n",
    "    pattern = (r\"\\b(\\w+)\\s+\\1\\b\")\n",
    "    result = re.sub(pattern, r'\\1', sentence)\n",
    "    return result\n",
    "sample_text = \"Hello hello world world\"\n",
    "output = remove_dupes(sample_text)\n",
    "print(output)\n"
   ]
  },
  {
   "cell_type": "code",
   "execution_count": 14,
   "id": "1d8dedea",
   "metadata": {},
   "outputs": [],
   "source": [
    "#Ans26:\n",
    "import regex as re\n",
    "def check_string(string):\n",
    "  pattern = r\"\\w$\"\n",
    "  match = re.search(pattern, string)\n",
    "  if match:\n",
    "    return True\n",
    "  else:\n",
    "        return False\n",
    "  "
   ]
  },
  {
   "cell_type": "code",
   "execution_count": 16,
   "id": "f4cffe0c",
   "metadata": {},
   "outputs": [
    {
     "name": "stdout",
     "output_type": "stream",
     "text": [
      "['#Doltiwal', '#xyzabc', '#Demonetization']\n"
     ]
    }
   ],
   "source": [
    "#Ans27:\n",
    "import regex as re\n",
    "sample_text = \"\"\"RT @kapil_kausik: #Doltiwal I mean #xyzabc is \"hurt\" by #Demonetization as the same has rendered USELESS <ed><U+00A0><U+00BD><ed><U+00B1><U+0089> \"acquired funds\" No wo\"\"\"\n",
    "pattern = r'#\\w+'\n",
    "hashtag_extraction = re.findall(pattern, sample_text)\n",
    "print(hashtag_extraction)\n"
   ]
  },
  {
   "cell_type": "code",
   "execution_count": 18,
   "id": "a108fc7d",
   "metadata": {},
   "outputs": [
    {
     "name": "stdout",
     "output_type": "stream",
     "text": [
      "@Jags123456 Bharat band on 28??<ed><ed>Those who are protesting #demonetization are all different party leaders\n"
     ]
    }
   ],
   "source": [
    "#Ans28:\n",
    "import regex as re\n",
    "sample_text = \"@Jags123456 Bharat band on 28??<ed><U+00A0><U+00BD><ed><U+00B8><U+0082>Those who are protesting #demonetization are all different party leaders\"\n",
    "pattern = r'<U\\+[0-9A-Fa-f]+>'\n",
    "output_text = re.sub(pattern, '', sample_text)\n",
    "print(output_text)\n"
   ]
  },
  {
   "cell_type": "code",
   "execution_count": 20,
   "id": "c462c0ce",
   "metadata": {},
   "outputs": [
    {
     "name": "stdout",
     "output_type": "stream",
     "text": [
      "['12-09-1992', '15-12-1999']\n"
     ]
    }
   ],
   "source": [
    "#Ans29:\n",
    "import regex as re\n",
    "regex_pattern = (r\"\\d{2}-\\d{2}-\\d{4}\")\n",
    "sample_text = \"Ron was born on 12-09-1992 and he was admitted to school 15-12-1999.\"\n",
    "dates = re.findall(regex_pattern,sample_text)\n",
    "print(dates)"
   ]
  },
  {
   "cell_type": "code",
   "execution_count": null,
   "id": "c6924bb4",
   "metadata": {},
   "outputs": [],
   "source": [
    "\n",
    "    \n",
    "    \n"
   ]
  },
  {
   "cell_type": "code",
   "execution_count": 27,
   "id": "61b98b1d",
   "metadata": {},
   "outputs": [
    {
     "name": "stdout",
     "output_type": "stream",
     "text": [
      " following example creates  ArrayList  a capacity   elements. 4 elements   added   ArrayList   ArrayList  trimmed accordingly.\n"
     ]
    }
   ],
   "source": [
    "#Ans30:\n",
    "import regex as re\n",
    "def remove_words(string):\n",
    "  pattern = re.compile(r'\\b\\w{2,4}\\b')\n",
    "  modified_string = re.sub(pattern, '', string)\n",
    "  return modified_string\n",
    "sample_text = \"The following example creates an ArrayList with a capacity of 50 elements. 4 elements are then added to the ArrayList and the ArrayList is trimmed accordingly.\"\n",
    "expected_output = \"following example creates ArrayList a capacity elements. 4 elements added ArrayList ArrayList trimmed accordingly.\"\n",
    "result = remove_words(sample_text)\n",
    "print(result)  "
   ]
  },
  {
   "cell_type": "code",
   "execution_count": null,
   "id": "cf739350",
   "metadata": {},
   "outputs": [],
   "source": []
  }
 ],
 "metadata": {
  "kernelspec": {
   "display_name": "Python 3 (ipykernel)",
   "language": "python",
   "name": "python3"
  },
  "language_info": {
   "codemirror_mode": {
    "name": "ipython",
    "version": 3
   },
   "file_extension": ".py",
   "mimetype": "text/x-python",
   "name": "python",
   "nbconvert_exporter": "python",
   "pygments_lexer": "ipython3",
   "version": "3.11.4"
  }
 },
 "nbformat": 4,
 "nbformat_minor": 5
}
